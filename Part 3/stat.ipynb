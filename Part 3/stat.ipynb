{
 "cells": [
  {
   "cell_type": "code",
   "execution_count": 4,
   "metadata": {},
   "outputs": [],
   "source": [
    "import pandas as pd\n",
    "\n",
    "# Data Preparation\n",
    "df = pd.read_pickle(\"accidents.pkl.gz\")"
   ]
  },
  {
   "cell_type": "markdown",
   "metadata": {},
   "source": [
    "## Hypotéza 1\n",
    "\n",
    "Na silnicích první třídy se při nehodách umíralo se stejnou pravděpodobností jako na silnicích třetí třídy.\n",
    "\n",
    "## Hypothesis\n",
    "\n",
    "**Null Hypothesis (H0)**: There is no significant difference in fatal crashes between first-class and third-class roads.\n",
    "\n",
    "**Alternative Hypothesis (H1)**: There is a significant difference in fatal crashes between first-class and third-class roads.\n",
    "\n",
    "## Conclusion\n",
    "\n",
    "The p-value is compared to the significance level (0.05). If the p-value is less than the significance level, the null hypothesis is rejected, indicating a significant association between road class and fatal crashes.\n",
    "\n",
    "Test below outputs following data:\n",
    "\n",
    "- Chi-square statistic: 167.2443757129343\n",
    "- P-value: 2.95835646229767e-38\n",
    "- Significance level: 0.05\n",
    "- Reject: There is a significant difference in fatal crashes between first-class and third-class roads"
   ]
  },
  {
   "cell_type": "code",
   "execution_count": 5,
   "metadata": {},
   "outputs": [
    {
     "name": "stdout",
     "output_type": "stream",
     "text": [
      "Chi-square statistic: 167.2443757129343\n",
      "P-value: 2.95835646229767e-38\n",
      "Significance level: 0.05\n",
      "Reject: There is a significant difference in fatal crashes between first-class and third-class roads\n"
     ]
    }
   ],
   "source": [
    "from scipy.stats import chi2_contingency\n",
    "\n",
    "ALPHA = 0.05\n",
    "\n",
    "# 1. Class road\n",
    "df1 = df[df[\"p36\"] == 1]\n",
    "\n",
    "# 3. Class road\n",
    "df3 = df[df[\"p36\"] == 3]\n",
    "\n",
    "# Create contingency table for fatal crashes at road class 1. and 3.\n",
    "contingency_table = pd.crosstab(df1[\"p36\"], df1['p13a'] > 0)\n",
    "contingency_table.loc[3] = pd.crosstab(df3[\"p36\"], df3['p13a'] > 0).loc[3]\n",
    "\n",
    "# print(contingency_table)\n",
    "\n",
    "# Run chi-square test\n",
    "chi2, p, _, _ = chi2_contingency(contingency_table.values)\n",
    "\n",
    "# Output results\n",
    "print(f\"Chi-square statistic: {chi2}\")\n",
    "print(f\"P-value: {p}\")\n",
    "print(f\"Significance level: {ALPHA}\")\n",
    "\n",
    "if p < ALPHA:\n",
    "    print(\"Reject: There is a significant difference in fatal crashes between first-class and third-class roads\")\n",
    "else:\n",
    "    print(\"Fail to reject: There is no significant difference in fatal crashes between first-class and third-class roads\")"
   ]
  },
  {
   "cell_type": "markdown",
   "metadata": {},
   "source": [
    "## Hypotéza 2\n",
    "\n",
    "Při nehodách vozidel značky Škoda je škoda na vozidle nižší než při nehodách vozidel Audi.\n",
    "\n",
    "## Hypothesis\n",
    "\n",
    "**Null Hypothesis (H0)**: There is no significant difference in vehicle damage between Skoda and Audi vehicles.\n",
    "\n",
    "**Alternative Hypothesis (H1)**: Škoda vehicle damage is significantly lower than Audi vehicle damage.\n",
    "\n",
    "## Conclusion\n",
    "\n",
    "The test produces a u-statistic and a p-value. U-Test was chosen over T-Test because data was not [normally distributed](https://www.youtube.com/watch?v=LcxB56PzylA). The p-value represents the probability of observing a u-statistic as extreme as the one calculated, assuming the null hypothesis is true.\n",
    "\n",
    "The p-value is compared to the significance level (0.05). If the p-value is less than the significance level, the null hypothesis is rejected, suggesting a significant difference in vehicle damage between Skoda and Audi vehicles.\n",
    "\n",
    "Output:\n",
    "\n",
    "- T-statistic: -18.576738138973823\n",
    "- P-value: 1.9879833820234112e-76\n",
    "- Significance level: 0.05\n",
    "- Reject: Skoda vehicle damage is significantly lower than Audi vehicle damage."
   ]
  },
  {
   "cell_type": "code",
   "execution_count": 6,
   "metadata": {},
   "outputs": [
    {
     "name": "stdout",
     "output_type": "stream",
     "text": [
      "U-statistic: 893517999.0\n",
      "P-value: 1.8082422042771395e-165\n",
      "Significance level: 0.05\n",
      "Reject: Skoda vehicle damage is significantly lower than Audi vehicle damage.\n"
     ]
    }
   ],
   "source": [
    "from scipy.stats import mannwhitneyu\n",
    "\n",
    "ALPHA = 0.05\n",
    "\n",
    "skoda_damage = df[df['p45a'] == 39]['p14']\n",
    "audi_damage = df[df['p45a'] == 2]['p14']\n",
    "\n",
    "# Performing Mann-Whitney U test for independent samples\n",
    "U_statistic, p = mannwhitneyu(skoda_damage, audi_damage)\n",
    "\n",
    "# Output results\n",
    "print(f\"U-statistic: {U_statistic}\")\n",
    "print(f\"P-value: {p}\")\n",
    "print(f\"Significance level: {ALPHA}\")\n",
    "\n",
    "if p < ALPHA:\n",
    "    print(\"Reject: Skoda vehicle damage is significantly lower than Audi vehicle damage.\")\n",
    "else:\n",
    "    print(\"Fail to reject: There is no significant difference in vehicle damage between Skoda and Audi vehicles.\")"
   ]
  },
  {
   "cell_type": "code",
   "execution_count": null,
   "metadata": {},
   "outputs": [],
   "source": []
  }
 ],
 "metadata": {
  "kernelspec": {
   "display_name": "Python 3",
   "language": "python",
   "name": "python3"
  },
  "language_info": {
   "codemirror_mode": {
    "name": "ipython",
    "version": 3
   },
   "file_extension": ".py",
   "mimetype": "text/x-python",
   "name": "python",
   "nbconvert_exporter": "python",
   "pygments_lexer": "ipython3",
   "version": "3.11.6"
  }
 },
 "nbformat": 4,
 "nbformat_minor": 2
}
